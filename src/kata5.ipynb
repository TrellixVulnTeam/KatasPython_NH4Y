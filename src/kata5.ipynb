{
 "cells": [
  {
   "cell_type": "markdown",
   "metadata": {},
   "source": [
    "#Ejercicio1 - Utilizar operadores aritméticos\n",
    "\n",
    "Exploremos cómo podemos crear un programa que pueda calcular la distancia entre dos planetas. Comenzaremos usando dos distancias de planetas: Tierra (149.597.870 km) y Júpiter (778.547.200 km)."
   ]
  },
  {
   "cell_type": "code",
   "execution_count": 5,
   "metadata": {},
   "outputs": [
    {
     "name": "stdout",
     "output_type": "stream",
     "text": [
      "Distancia entre la tierra y Jupiter: 628949330\n",
      "Distancia en millas: 1012195830.53952\n"
     ]
    }
   ],
   "source": [
    "tierra= 149597870\n",
    "jupiter= 778547200\n",
    "distancia= jupiter - tierra\n",
    "distanciaMillas= distancia * 1.609344\n",
    "\n",
    "print(\"Distancia entre la tierra y Jupiter: \" + str(distancia))\n",
    "print(\"Distancia en millas: \"+ str(distanciaMillas))"
   ]
  },
  {
   "cell_type": "markdown",
   "metadata": {},
   "source": [
    "Ejercicio 2: convierte cadenas en números y usa valores absolutos\n",
    "Crear una aplicación para trabajar con números y entrada de usuario\n",
    "Con frecuencia, deberás convertir los valores de cadena en números para realizar correctamente diferentes operaciones o determinar el valor absoluto de un número.\n",
    "\n",
    "Para crear nuestra aplicación, queremos leer la distancia del sol para dos planetas, y luego mostrar la distancia entre los planetas. Haremos esto usando input para leer los valores, int para convertir a entero y luego abs para convertir el resultado en su valor absoluto."
   ]
  },
  {
   "cell_type": "code",
   "execution_count": 9,
   "metadata": {},
   "outputs": [
    {
     "name": "stdout",
     "output_type": "stream",
     "text": [
      "Distancia entre los dos planetas: 50300000Km\n",
      "Distancia en millas: 31236300.0Millas\n"
     ]
    }
   ],
   "source": [
    "distancia1 = int(input(\"Ingresa la primer distancia del planeta: \"))\n",
    "distancia2 = int(input(\"Ingresa la segunda distancia del planeta: \"))\n",
    "\n",
    "distanciaEntrePlanetas= distancia1-distancia2\n",
    "distanciaEnMillas= distanciaEntrePlanetas * 0.621\n",
    "\n",
    "print(\"Distancia entre los dos planetas: \" + str(abs(distanciaEntrePlanetas))+ \" Km\")\n",
    "print(\"Distancia en millas: \"+ str(abs(distanciaEnMillas))+\" Millas\")\n"
   ]
  }
 ],
 "metadata": {
  "interpreter": {
   "hash": "6ff99dea9781a841655fa6de9fd2e6b5b3d8e3d5e19b65080b8638ebd855d3ce"
  },
  "kernelspec": {
   "display_name": "Python 3.9.10 ('env': venv)",
   "language": "python",
   "name": "python3"
  },
  "language_info": {
   "codemirror_mode": {
    "name": "ipython",
    "version": 3
   },
   "file_extension": ".py",
   "mimetype": "text/x-python",
   "name": "python",
   "nbconvert_exporter": "python",
   "pygments_lexer": "ipython3",
   "version": "3.9.10"
  },
  "orig_nbformat": 4
 },
 "nbformat": 4,
 "nbformat_minor": 2
}
