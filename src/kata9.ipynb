{
 "cells": [
  {
   "cell_type": "markdown",
   "metadata": {},
   "source": [
    "#Ejercicio: Uso de funciones en Python\n",
    "\n",
    "Ejercicio 1: Trabajar con argumentos en funciones\n",
    "Los argumentos requeridos en las funciones se utilizan cuando las funciones necesitan que esos argumentos funcionen correctamente. En este ejercicio, construirás un informe de combustible que requiere información de varias ubicaciones de combustible en todo el cohete."
   ]
  },
  {
   "cell_type": "code",
   "execution_count": 9,
   "metadata": {},
   "outputs": [
    {
     "name": "stdout",
     "output_type": "stream",
     "text": [
      "Informe: \n",
      "    Promedio: 65.0%\n",
      "    Tanque1:95%\n",
      "    Tanque2:66%\n",
      "    Tanque3:34%\n",
      "    \n"
     ]
    }
   ],
   "source": [
    "def informeCombustible(tanque1,tanque2,tanque3):\n",
    "    prom = promedio(tanque1,tanque2,tanque3)\n",
    "    \n",
    "    return f\"\"\"Informe: \n",
    "    Promedio: {str(prom)}%\n",
    "    Tanque1:{str(tanque1)}%\n",
    "    Tanque2:{str(tanque2)}%\n",
    "    Tanque3:{str(tanque3)}%\n",
    "    \"\"\"\n",
    "\n",
    "def promedio(valor1,valor2,valor3):\n",
    "    return (valor1 + valor2 + valor3)/3\n",
    "\n",
    "\n",
    "print(informeCombustible(95,66,34))"
   ]
  },
  {
   "cell_type": "markdown",
   "metadata": {},
   "source": [
    "#Ejercicio 2: Trabajo con argumentos de palabra clave\n",
    "\n",
    "Ejercicio : Trabajar con argumentos de palabras clave en funciones\n",
    "En este ejercicio, construirás un informe de cohete que requiere varias piezas de información, como el tiempo hasta el destino, el combustible a la izquierda y el nombre del destino. Comienza por crear una función que creará un informe preciso de la misión:"
   ]
  },
  {
   "cell_type": "code",
   "execution_count": 18,
   "metadata": {},
   "outputs": [
    {
     "name": "stdout",
     "output_type": "stream",
     "text": [
      "Informe: \n",
      "    Hora de Prelanzamiento: 11\n",
      "    Tiempo de vuelo:60\n",
      "    Destino:Namek\n",
      "    Tanque externo:95%\n",
      "    Tanque interno:100%\n",
      "    \n",
      "Informe: \n",
      "    Tiempo de vuelo:140 Minutos\n",
      "    Destino:Namek\n",
      "    Gasolina:195 Galones\n",
      "    \n",
      "Informe: \n",
      "    Tiempo de vuelo:140 Minutos\n",
      "    Destino:Namek\n",
      "    Gasolina:195 Galones\n",
      "    Tanque: tanqueInterno | Galones: 95\n",
      "Tanque: tanqueExterno | Galones: 100\n",
      "\n"
     ]
    }
   ],
   "source": [
    "def informeMision(hora,tiempo,destino,tanqueExterno,tanqueInterno):\n",
    "    \n",
    "    return f\"\"\"Informe: \n",
    "    Hora de Prelanzamiento: {str(hora)}\n",
    "    Tiempo de vuelo:{str(tiempo)}\n",
    "    Destino:{str(destino)}\n",
    "    Tanque externo:{str(tanqueExterno)}%\n",
    "    Tanque interno:{str(tanqueInterno)}%\n",
    "    \"\"\"\n",
    "\n",
    "print(informeMision(11, 60, \"Namek\", 95, 100))\n",
    "\n",
    "def informeMision2(destino,*tiempo, **gasolina):\n",
    "    \n",
    "    return f\"\"\"Informe: \n",
    "    Tiempo de vuelo:{str(sum(tiempo))} Minutos\n",
    "    Destino:{str(destino)}\n",
    "    Gasolina:{str(sum(gasolina.values()))} Galones\n",
    "    \"\"\"\n",
    "print(informeMision2(\"Namek\", 11, 60, 69, tanqueInterno=95, tanqueExterno=100))\n",
    "\n",
    "\n",
    "def informeMision3(destino,*tiempo, **gasolina):\n",
    "    \n",
    "    informe = f\"\"\"Informe: \n",
    "    Tiempo de vuelo:{str(sum(tiempo))} Minutos\n",
    "    Destino:{str(destino)}\n",
    "    Gasolina:{str(sum(gasolina.values()))} Galones\n",
    "    \"\"\"\n",
    "    for tanque, galones in gasolina.items():\n",
    "        informe += f\"\"\"Tanque: {tanque} | Galones: {galones}\\n\"\"\"\n",
    "    \n",
    "    return informe \n",
    "\n",
    "print(informeMision3(\"Namek\", 11, 60, 69, tanqueInterno=95, tanqueExterno=100))\n",
    "\n"
   ]
  }
 ],
 "metadata": {
  "interpreter": {
   "hash": "8881a27da033c07ef5cadb54031fe189927e686d6d167c696bdc507625e60126"
  },
  "kernelspec": {
   "display_name": "Python 3.9.10 ('env': venv)",
   "language": "python",
   "name": "python3"
  },
  "language_info": {
   "codemirror_mode": {
    "name": "ipython",
    "version": 3
   },
   "file_extension": ".py",
   "mimetype": "text/x-python",
   "name": "python",
   "nbconvert_exporter": "python",
   "pygments_lexer": "ipython3",
   "version": "3.9.10"
  },
  "orig_nbformat": 4
 },
 "nbformat": 4,
 "nbformat_minor": 2
}
